{
 "cells": [
  {
   "cell_type": "code",
   "execution_count": 2,
   "metadata": {},
   "outputs": [],
   "source": [
    "file = open(\"../log-18-06.log\", \"r\")\n",
    "logs = file.readlines()"
   ]
  },
  {
   "cell_type": "code",
   "execution_count": 5,
   "metadata": {},
   "outputs": [
    {
     "data": {
      "text/plain": [
       "1257"
      ]
     },
     "execution_count": 5,
     "metadata": {},
     "output_type": "execute_result"
    }
   ],
   "source": [
    "len([line for line in logs if 'NO_CONTENT' in line])"
   ]
  },
  {
   "cell_type": "code",
   "execution_count": 72,
   "metadata": {},
   "outputs": [
    {
     "data": {
      "text/plain": [
       "'../final/Jamaica Supreme Court/Jamaica High Court 2005/Portmore Citizens Advisory Council & Portmore Joint Citizens Association v Ministry of Transport and Works, The Attorney General of Jamaica.pdf'"
      ]
     },
     "execution_count": 72,
     "metadata": {},
     "output_type": "execute_result"
    }
   ],
   "source": [
    "import os\n",
    "\n",
    "def find_file(name):\n",
    "    name = name.split(':')[1].strip()\n",
    "    \n",
    "    for root, subdirectories, files in os.walk('../final/'):\n",
    "        for file in files:\n",
    "            if name in file:\n",
    "                return os.path.join(root, file)\n",
    "        \n",
    "    return 'NOT_FOUND'\n",
    "    \n",
    "find_file('on 1: Portmore Citizens Advisory Council & Portmore Joint Citizens Association v Ministry of Transport and Works, The Attorney General of Jamaica.pdf')"
   ]
  },
  {
   "cell_type": "code",
   "execution_count": 77,
   "metadata": {},
   "outputs": [
    {
     "name": "stdout",
     "output_type": "stream",
     "text": [
      "hey\n",
      "11507/11508\r"
     ]
    }
   ],
   "source": [
    "paths = []\n",
    "\n",
    "for index in range(len(logs)):\n",
    "    print(f'{index}/{len(logs)}', end='\\r')\n",
    "    \n",
    "    if 'NO_CONTENT' in logs[index]:\n",
    "        path = find_file(logs[index - 1])\n",
    "        paths.append({\n",
    "            'path': path\n",
    "        })\n",
    "        \n",
    "\n",
    "        "
   ]
  },
  {
   "cell_type": "code",
   "execution_count": 123,
   "metadata": {},
   "outputs": [],
   "source": [
    "with open('fail.txt', 'w') as f:\n",
    "    for item in paths:\n",
    "        f.write(\"%s\\n\" % item['path'])"
   ]
  },
  {
   "cell_type": "code",
   "execution_count": 79,
   "metadata": {},
   "outputs": [],
   "source": [
    "import pandas as pd\n",
    "\n",
    "df = pd.DataFrame(paths)"
   ]
  },
  {
   "cell_type": "code",
   "execution_count": 86,
   "metadata": {},
   "outputs": [],
   "source": [
    "# df.groupby('path').size().sort_values()"
   ]
  },
  {
   "cell_type": "code",
   "execution_count": 95,
   "metadata": {},
   "outputs": [
    {
     "data": {
      "text/html": [
       "<div>\n",
       "<style scoped>\n",
       "    .dataframe tbody tr th:only-of-type {\n",
       "        vertical-align: middle;\n",
       "    }\n",
       "\n",
       "    .dataframe tbody tr th {\n",
       "        vertical-align: top;\n",
       "    }\n",
       "\n",
       "    .dataframe thead th {\n",
       "        text-align: right;\n",
       "    }\n",
       "</style>\n",
       "<table border=\"1\" class=\"dataframe\">\n",
       "  <thead>\n",
       "    <tr style=\"text-align: right;\">\n",
       "      <th></th>\n",
       "      <th>0</th>\n",
       "      <th>1</th>\n",
       "      <th>2</th>\n",
       "      <th>3</th>\n",
       "      <th>4</th>\n",
       "      <th>5</th>\n",
       "    </tr>\n",
       "  </thead>\n",
       "  <tbody>\n",
       "    <tr>\n",
       "      <th>0</th>\n",
       "      <td>..</td>\n",
       "      <td>final</td>\n",
       "      <td>Jamaica Supreme Court</td>\n",
       "      <td>Jamaica High Court 2005</td>\n",
       "      <td>Osaka Auto Parts v The Attorney General etal.pdf</td>\n",
       "      <td>None</td>\n",
       "    </tr>\n",
       "    <tr>\n",
       "      <th>1</th>\n",
       "      <td>..</td>\n",
       "      <td>final</td>\n",
       "      <td>Jamaica Supreme Court</td>\n",
       "      <td>Jamaica High Court 2005</td>\n",
       "      <td>Portmore Citizens Advisory Council &amp; Portmore ...</td>\n",
       "      <td>None</td>\n",
       "    </tr>\n",
       "    <tr>\n",
       "      <th>2</th>\n",
       "      <td>..</td>\n",
       "      <td>final</td>\n",
       "      <td>Jamaica Supreme Court</td>\n",
       "      <td>Jamaica High Court 2005</td>\n",
       "      <td>Bryan, Aubrey v Coolit Ltd &amp; Glenford Coleman.pdf</td>\n",
       "      <td>None</td>\n",
       "    </tr>\n",
       "    <tr>\n",
       "      <th>3</th>\n",
       "      <td>..</td>\n",
       "      <td>final</td>\n",
       "      <td>Jamaica Supreme Court</td>\n",
       "      <td>Jamaica High Court 2005</td>\n",
       "      <td>Financial Institutions Services Ltd v Peter Cr...</td>\n",
       "      <td>None</td>\n",
       "    </tr>\n",
       "    <tr>\n",
       "      <th>4</th>\n",
       "      <td>..</td>\n",
       "      <td>final</td>\n",
       "      <td>Jamaica Supreme Court</td>\n",
       "      <td>Jamaica High Court 2005</td>\n",
       "      <td>Innis, Collins v Kingsley Thomas.pdf</td>\n",
       "      <td>None</td>\n",
       "    </tr>\n",
       "    <tr>\n",
       "      <th>...</th>\n",
       "      <td>...</td>\n",
       "      <td>...</td>\n",
       "      <td>...</td>\n",
       "      <td>...</td>\n",
       "      <td>...</td>\n",
       "      <td>...</td>\n",
       "    </tr>\n",
       "    <tr>\n",
       "      <th>1252</th>\n",
       "      <td>..</td>\n",
       "      <td>final</td>\n",
       "      <td>Antigua and Barbuda</td>\n",
       "      <td>High Court</td>\n",
       "      <td>2014</td>\n",
       "      <td>gingervillaincorporated.pdf</td>\n",
       "    </tr>\n",
       "    <tr>\n",
       "      <th>1253</th>\n",
       "      <td>..</td>\n",
       "      <td>final</td>\n",
       "      <td>Antigua and Barbuda</td>\n",
       "      <td>High Court</td>\n",
       "      <td>2014</td>\n",
       "      <td>josephwhorsford.pdf</td>\n",
       "    </tr>\n",
       "    <tr>\n",
       "      <th>1254</th>\n",
       "      <td>..</td>\n",
       "      <td>final</td>\n",
       "      <td>Antigua and Barbuda</td>\n",
       "      <td>High Court</td>\n",
       "      <td>2020</td>\n",
       "      <td>Thomas-vs-Jumby-Bay-Resory.pdf</td>\n",
       "    </tr>\n",
       "    <tr>\n",
       "      <th>1255</th>\n",
       "      <td>..</td>\n",
       "      <td>final</td>\n",
       "      <td>Antigua and Barbuda</td>\n",
       "      <td>High Court</td>\n",
       "      <td>2020</td>\n",
       "      <td>Decision-Collin-Hope-Jr-vs-Edmond-Lake.pdf</td>\n",
       "    </tr>\n",
       "    <tr>\n",
       "      <th>1256</th>\n",
       "      <td>..</td>\n",
       "      <td>final</td>\n",
       "      <td>Antigua and Barbuda</td>\n",
       "      <td>High Court</td>\n",
       "      <td>2020</td>\n",
       "      <td>Lisa-Francis-vs-Ivor-Gore-et-al.pdf</td>\n",
       "    </tr>\n",
       "  </tbody>\n",
       "</table>\n",
       "<p>1257 rows × 6 columns</p>\n",
       "</div>"
      ],
      "text/plain": [
       "       0      1                      2                        3  \\\n",
       "0     ..  final  Jamaica Supreme Court  Jamaica High Court 2005   \n",
       "1     ..  final  Jamaica Supreme Court  Jamaica High Court 2005   \n",
       "2     ..  final  Jamaica Supreme Court  Jamaica High Court 2005   \n",
       "3     ..  final  Jamaica Supreme Court  Jamaica High Court 2005   \n",
       "4     ..  final  Jamaica Supreme Court  Jamaica High Court 2005   \n",
       "...   ..    ...                    ...                      ...   \n",
       "1252  ..  final    Antigua and Barbuda               High Court   \n",
       "1253  ..  final    Antigua and Barbuda               High Court   \n",
       "1254  ..  final    Antigua and Barbuda               High Court   \n",
       "1255  ..  final    Antigua and Barbuda               High Court   \n",
       "1256  ..  final    Antigua and Barbuda               High Court   \n",
       "\n",
       "                                                      4  \\\n",
       "0      Osaka Auto Parts v The Attorney General etal.pdf   \n",
       "1     Portmore Citizens Advisory Council & Portmore ...   \n",
       "2     Bryan, Aubrey v Coolit Ltd & Glenford Coleman.pdf   \n",
       "3     Financial Institutions Services Ltd v Peter Cr...   \n",
       "4                  Innis, Collins v Kingsley Thomas.pdf   \n",
       "...                                                 ...   \n",
       "1252                                               2014   \n",
       "1253                                               2014   \n",
       "1254                                               2020   \n",
       "1255                                               2020   \n",
       "1256                                               2020   \n",
       "\n",
       "                                               5  \n",
       "0                                           None  \n",
       "1                                           None  \n",
       "2                                           None  \n",
       "3                                           None  \n",
       "4                                           None  \n",
       "...                                          ...  \n",
       "1252                 gingervillaincorporated.pdf  \n",
       "1253                         josephwhorsford.pdf  \n",
       "1254              Thomas-vs-Jumby-Bay-Resory.pdf  \n",
       "1255  Decision-Collin-Hope-Jr-vs-Edmond-Lake.pdf  \n",
       "1256         Lisa-Francis-vs-Ivor-Gore-et-al.pdf  \n",
       "\n",
       "[1257 rows x 6 columns]"
      ]
     },
     "execution_count": 95,
     "metadata": {},
     "output_type": "execute_result"
    }
   ],
   "source": [
    "df_s = df['path'].str.split('/', expand=True)\n",
    "df_s"
   ]
  },
  {
   "cell_type": "code",
   "execution_count": 122,
   "metadata": {},
   "outputs": [
    {
     "data": {
      "text/plain": [
       "2                               3                         4                            \n",
       "St. kitts and nevis             High court                2021                             2\n",
       "                                                          2020                             3\n",
       "                                                          2012                             3\n",
       "                                Court of appeal           2017                             1\n",
       "St. Vincent and the grenadines  High court                2019                             1\n",
       "                                                                                          ..\n",
       "Barbados                        Barbados Court of Appeal  Barbados Court of Appeal 2020    7\n",
       "                                                          Barbados Court of Appeal 2019    2\n",
       "                                                          Barbados Court of Appeal 2014    1\n",
       "Antigua and Barbuda             High Court                2020                             3\n",
       "                                                          2014                             3\n",
       "Length: 1187, dtype: int64"
      ]
     },
     "execution_count": 122,
     "metadata": {},
     "output_type": "execute_result"
    }
   ],
   "source": [
    "df_s.groupby([2, 3, 4]).size().sort_index(ascending=False)#.to_csv('../data/four.csv')"
   ]
  },
  {
   "cell_type": "code",
   "execution_count": 119,
   "metadata": {},
   "outputs": [
    {
     "data": {
      "text/plain": [
       "2                                 3                                    \n",
       "St. kitts and nevis               High court                                 8\n",
       "                                  Court of appeal                            1\n",
       "St. Vincent and the grenadines    High court                                11\n",
       "                                  Court of appeal                            1\n",
       "St. Lucia                         High court                                 9\n",
       "                                  Court of appeal                            3\n",
       "Jamaica Supreme Court             Jamaica High Court 2021                    1\n",
       "                                  Jamaica High Court 2019                    3\n",
       "                                  Jamaica High Court 2018                    3\n",
       "                                  Jamaica High Court 2016                    1\n",
       "                                  Jamaica High Court 2015                    1\n",
       "                                  Jamaica High Court 2014                    7\n",
       "                                  Jamaica High Court 2013                   25\n",
       "                                  Jamaica High Court 2012                   21\n",
       "                                  Jamaica High Court 2011                   28\n",
       "                                  Jamaica High Court 2010                   83\n",
       "                                  Jamaica High Court 2009                  133\n",
       "                                  Jamaica High Court 2008                   90\n",
       "                                  Jamaica High Court 2007                  103\n",
       "                                  Jamaica High Court 2006                  107\n",
       "                                  Jamaica High Court 2005                  117\n",
       "Jamaica Court of Appeal Criminal  Jamaica Court of Appeal Criminal 2014      6\n",
       "                                  Jamaica Court of Appeal Criminal 2013      3\n",
       "                                  Jamaica Court of Appeal Criminal 2012      8\n",
       "                                  Jamaica Court of Appeal Criminal 2011      4\n",
       "                                  Jamaica Court of Appeal Criminal 2010      2\n",
       "                                  Jamaica Court of Appeal Criminal 2009     29\n",
       "                                  Jamaica Court of Appeal Criminal 2008     40\n",
       "                                  Jamaica Court of Appeal Criminal 2007      1\n",
       "                                  Jamaica Court of Appeal Criminal 2006     29\n",
       "                                  Jamaica Court of Appeal Criminal 2005     18\n",
       "Jamaica Court of Appeal Civil     Jamaica Court of Appeal Civil 2017         2\n",
       "                                  Jamaica Court of Appeal Civil 2015         2\n",
       "                                  Jamaica Court of Appeal Civil 2014         8\n",
       "                                  Jamaica Court of Appeal Civil 2013         2\n",
       "                                  Jamaica Court of Appeal Civil 2012         6\n",
       "                                  Jamaica Court of Appeal Civil 2011        12\n",
       "                                  Jamaica Court of Appeal Civil 2010        20\n",
       "                                  Jamaica Court of Appeal Civil 2009        56\n",
       "                                  Jamaica Court of Appeal Civil 2008        51\n",
       "                                  Jamaica Court of Appeal Civil 2007         3\n",
       "                                  Jamaica Court of Appeal Civil 2006        43\n",
       "                                  Jamaica Court of Appeal Civil 2005        45\n",
       "Grenada                           High Court                                14\n",
       "                                  Court of Appeal                            1\n",
       "Dominica                          High Court                                 6\n",
       "Belize High Court Criminal        Belize High Court Criminal 2020            1\n",
       "                                  Belize High Court Criminal 2019            2\n",
       "                                  Belize High Court Criminal 2018            2\n",
       "Belize High Court Civil           Belize High Court Civil 2018               3\n",
       "                                  Belize High Court Civil 2017              15\n",
       "                                  Belize High Court Civil 2016               1\n",
       "                                  Belize High Court Civil 2014               1\n",
       "                                  Belize High Court Civil 2008               4\n",
       "Belize Court of Appeal Civil      Belize Court of Appeal Civil               2\n",
       "Barbados                          Barbados High Court                       43\n",
       "                                  Barbados Court of Appeal                  10\n",
       "Antigua and Barbuda               High Court                                 6\n",
       "dtype: int64"
      ]
     },
     "execution_count": 119,
     "metadata": {},
     "output_type": "execute_result"
    }
   ],
   "source": [
    "df_s.groupby([2, 3]).size().sort_index(ascending=False)#.to_csv('../data/three.csv')"
   ]
  },
  {
   "cell_type": "code",
   "execution_count": 116,
   "metadata": {},
   "outputs": [
    {
     "data": {
      "text/plain": [
       "2\n",
       "Jamaica Supreme Court               723\n",
       "Jamaica Court of Appeal Civil       250\n",
       "Jamaica Court of Appeal Criminal    140\n",
       "Barbados                             53\n",
       "Belize High Court Civil              24\n",
       "Grenada                              15\n",
       "St. Vincent and the grenadines       12\n",
       "St. Lucia                            12\n",
       "St. kitts and nevis                   9\n",
       "Dominica                              6\n",
       "Antigua and Barbuda                   6\n",
       "Belize High Court Criminal            5\n",
       "Belize Court of Appeal Civil          2\n",
       "dtype: int64"
      ]
     },
     "execution_count": 116,
     "metadata": {},
     "output_type": "execute_result"
    }
   ],
   "source": [
    "df_s.groupby([2]).size().sort_values(ascending=False)#.to_csv('../data/two.csv')"
   ]
  },
  {
   "cell_type": "code",
   "execution_count": null,
   "metadata": {},
   "outputs": [],
   "source": []
  },
  {
   "cell_type": "code",
   "execution_count": null,
   "metadata": {},
   "outputs": [],
   "source": []
  }
 ],
 "metadata": {
  "kernelspec": {
   "display_name": "Python 3",
   "language": "python",
   "name": "python3"
  },
  "language_info": {
   "codemirror_mode": {
    "name": "ipython",
    "version": 3
   },
   "file_extension": ".py",
   "mimetype": "text/x-python",
   "name": "python",
   "nbconvert_exporter": "python",
   "pygments_lexer": "ipython3",
   "version": "3.8.5"
  }
 },
 "nbformat": 4,
 "nbformat_minor": 4
}
